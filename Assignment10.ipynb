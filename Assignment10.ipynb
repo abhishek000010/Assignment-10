{
 "cells": [
  {
   "cell_type": "code",
   "execution_count": 4,
   "id": "87fa671c-d3fd-4b89-9942-c7c779652424",
   "metadata": {},
   "outputs": [],
   "source": [
    "Q1 -> Create a vehicle class with an init method having instance variables as name_of_vehicle, max_speed\n",
    "and average_of_vehicle.\n",
    "\n",
    "class vechile:\n",
    "    def __init__(self , name_of_vechile , max_speed , average_of_vechile):\n",
    "        self.name_of_vechile = name_of_vechile\n",
    "        self.max_speed = max_speed\n",
    "        self.average_of_vechile = average_of_vechile"
   ]
  },
  {
   "cell_type": "code",
   "execution_count": 12,
   "id": "ee490c1c-2728-4d99-9931-d1d3ef9add26",
   "metadata": {},
   "outputs": [
    {
     "name": "stdout",
     "output_type": "stream",
     "text": [
      "Toyota has a seating capacity of 5 pepoles\n"
     ]
    }
   ],
   "source": [
    "Q2 -> Create a child class car from the vehicle class created in Que 1, which will inherit the vehicle class.\n",
    "Create a method named seating_capacity which takes capacity as an argument and returns the name of\n",
    "the vehicle and its seating capacity.\n",
    "\n",
    "class car(vechile):\n",
    "    def __init__(self, name_of_vechile , max_speed , average_of_vechile):\n",
    "        super().__init__(name_of_vechile , max_speed , average_of_vechile)\n",
    "        \n",
    "    def seating_capacity(self , capacity):\n",
    "         return f\"{self.name_of_vechile} has a seating capacity of {capacity} pepoles\"\n",
    "\n",
    "my_car = car(\"Toyota\" , 120 , 60)\n",
    "print(my_car.seating_capacity(5))"
   ]
  },
  {
   "cell_type": "code",
   "execution_count": 9,
   "id": "566e7035-852e-4105-8450-27fb6b4dd87a",
   "metadata": {},
   "outputs": [],
   "source": [
    "Q3 -> What is multiple inheritance? Write a python code to demonstrate multiple inheritance.?\n",
    "\n",
    "Ans -> If a child class is inheriting the properties of a single other class, we call it single inheritance. However, if a child class inherits from more than one class, i.e. this child class is derived from multiple classes, we call it multiple inheritance in Python.\n",
    "\n",
    "\n",
    "class Father:\n",
    "    def skills1(self):\n",
    "        print(\"father have singing skill\")\n",
    "class Mother:\n",
    "    def skills2(self):\n",
    "        print(\"Mother is good at coding\")\n",
    "class Son(Father , Mother):\n",
    "    pass\n",
    "\n",
    "obj = Son()\n",
    "obj.skills2()\n",
    "obj.skills1()"
   ]
  },
  {
   "cell_type": "code",
   "execution_count": null,
   "id": "1f9fac63-85db-4cc6-a0c8-24f2558b4f04",
   "metadata": {},
   "outputs": [],
   "source": [
    "Q4 -> What are getter and setter in python? Create a class and create a getter and a setter method in this\n",
    "class.\n",
    "\n",
    "Ans ->  getters and setters are methods that allow you to get and set the values of instance variables in a class, respectively. They are used to control the access to the instance variables and ensure that their values are valid.\n",
    "\n",
    "# example of getter and setter\n",
    "class Person:\n",
    "    def __init__(self, name, age):\n",
    "        self._name = name\n",
    "        self._age = age\n",
    "\n",
    "    def get_name(self):\n",
    "        return self._name\n",
    "\n",
    "    def set_name(self, name):\n",
    "        self._name = name\n",
    "\n",
    "    def get_age(self):\n",
    "        return self._age\n",
    "\n",
    "    def set_age(self, age):\n",
    "        if age >= 0:\n",
    "            self._age = age\n",
    "        else:\n",
    "            print(\"Age cannot be negative.\")\n",
    "\n",
    "person = Person(\"John\", 30)\n",
    "print(person.get_name())   \n",
    "person.set_name(\"Mike\")\n",
    "print(person.get_name())   \n",
    "print(person.get_age())    \n",
    "person.set_age(-5) "
   ]
  },
  {
   "cell_type": "code",
   "execution_count": 1,
   "id": "c64aeb88-d715-4257-8ae4-eec5369397e0",
   "metadata": {},
   "outputs": [],
   "source": [
    "Q5 ->What is method overriding in python? Write a python code to demonstrate method overriding.\n",
    "\n",
    "Ans -> Method overriding is a feature in object-oriented programming languages that allows a subclass to provide its own implementation\n",
    "of a method that is already defined in its superclass. When a method is overridden in the subclass, the implementation in the superclass is ignored and the implementation in the subclass is used instead.\n",
    "\n",
    "class Animal:\n",
    "    def make_sound(self):\n",
    "        print(\"the animal make a sound\")\n",
    "        \n",
    "class Dog(Animal):\n",
    "    def make_sound(self):\n",
    "        print(\"The dog barks\")\n",
    "\n",
    "class Cat(Animal):\n",
    "    def make_sound(self):\n",
    "        print(\"The cat meows\")\n",
    "    \n",
    "animal = Animal()\n",
    "animal.make_sound()\n",
    "\n",
    "dog = Dog()\n",
    "dog.make_sound()\n",
    "\n",
    "cat = Cat()\n",
    "cat.make_sound()"
   ]
  },
  {
   "cell_type": "code",
   "execution_count": null,
   "id": "c7743489-fda4-476a-aa94-a01f6c85d9cb",
   "metadata": {},
   "outputs": [],
   "source": []
  },
  {
   "cell_type": "code",
   "execution_count": null,
   "id": "3896109b-804e-49b5-9d56-ccc25f65f3fb",
   "metadata": {},
   "outputs": [],
   "source": []
  },
  {
   "cell_type": "code",
   "execution_count": null,
   "id": "a8ebff64-0b64-4137-9601-c09a81a872f4",
   "metadata": {},
   "outputs": [],
   "source": []
  },
  {
   "cell_type": "code",
   "execution_count": null,
   "id": "5cb4a74e-eb35-424c-8232-cb08b4a58c21",
   "metadata": {},
   "outputs": [],
   "source": []
  },
  {
   "cell_type": "code",
   "execution_count": null,
   "id": "f762a613-b81d-4ae8-b585-3f9640513bb2",
   "metadata": {},
   "outputs": [],
   "source": []
  },
  {
   "cell_type": "code",
   "execution_count": null,
   "id": "7fa71764-b524-4a4e-90f9-06ab7da454bf",
   "metadata": {},
   "outputs": [],
   "source": []
  },
  {
   "cell_type": "code",
   "execution_count": null,
   "id": "fab783d8-21cf-4ce6-be19-09b3a19a84cb",
   "metadata": {},
   "outputs": [],
   "source": []
  },
  {
   "cell_type": "code",
   "execution_count": null,
   "id": "1c58e007-ec84-4531-9d11-ed764cc381e3",
   "metadata": {},
   "outputs": [],
   "source": []
  },
  {
   "cell_type": "code",
   "execution_count": null,
   "id": "39f6fcd0-bd42-4225-b783-b0754c9aba3a",
   "metadata": {},
   "outputs": [],
   "source": []
  },
  {
   "cell_type": "code",
   "execution_count": null,
   "id": "d530891b-226f-4a87-bce4-e1f706ba18a2",
   "metadata": {},
   "outputs": [],
   "source": []
  },
  {
   "cell_type": "code",
   "execution_count": null,
   "id": "8113780f-a98d-4903-b5d2-11f7360551f6",
   "metadata": {},
   "outputs": [],
   "source": []
  },
  {
   "cell_type": "code",
   "execution_count": null,
   "id": "d9942ca1-a531-4668-88d7-37d586c79e20",
   "metadata": {},
   "outputs": [],
   "source": []
  },
  {
   "cell_type": "code",
   "execution_count": null,
   "id": "ab3e1031-bfe1-4929-9f83-4c6156edca26",
   "metadata": {},
   "outputs": [],
   "source": []
  },
  {
   "cell_type": "code",
   "execution_count": null,
   "id": "9ff352b5-f6e4-4eb0-b88b-500ea43eb394",
   "metadata": {},
   "outputs": [],
   "source": []
  },
  {
   "cell_type": "code",
   "execution_count": null,
   "id": "255dfa30-39e3-4955-b6b4-bb38970b3b07",
   "metadata": {},
   "outputs": [],
   "source": []
  },
  {
   "cell_type": "code",
   "execution_count": null,
   "id": "fad0add1-0509-4e5a-b2ce-18e64fa64038",
   "metadata": {},
   "outputs": [],
   "source": []
  },
  {
   "cell_type": "code",
   "execution_count": null,
   "id": "a253a042-f76b-48c8-bffc-f2d98735894b",
   "metadata": {},
   "outputs": [],
   "source": []
  },
  {
   "cell_type": "code",
   "execution_count": null,
   "id": "9cce5bdb-630a-470c-9638-058d23af50cc",
   "metadata": {},
   "outputs": [],
   "source": []
  },
  {
   "cell_type": "code",
   "execution_count": null,
   "id": "655aea0c-75af-4f57-aab3-41c4bd519613",
   "metadata": {},
   "outputs": [],
   "source": []
  },
  {
   "cell_type": "code",
   "execution_count": null,
   "id": "2662ba11-e0b6-48c2-a777-ff0b3e104de0",
   "metadata": {},
   "outputs": [],
   "source": []
  },
  {
   "cell_type": "code",
   "execution_count": null,
   "id": "a9000965-8df9-45b4-a575-9bf7afb3d1e8",
   "metadata": {},
   "outputs": [],
   "source": []
  },
  {
   "cell_type": "code",
   "execution_count": null,
   "id": "98339743-2fd0-4959-9660-57a1927be9cf",
   "metadata": {},
   "outputs": [],
   "source": []
  },
  {
   "cell_type": "code",
   "execution_count": null,
   "id": "f43276b8-371b-4de3-90c8-f037d5b279ab",
   "metadata": {},
   "outputs": [],
   "source": []
  },
  {
   "cell_type": "code",
   "execution_count": null,
   "id": "f8a60941-b34f-412e-ac80-407df4b6faa2",
   "metadata": {},
   "outputs": [],
   "source": []
  },
  {
   "cell_type": "code",
   "execution_count": null,
   "id": "16c323f4-bdc4-4275-8d4c-7f6413549305",
   "metadata": {},
   "outputs": [],
   "source": []
  },
  {
   "cell_type": "code",
   "execution_count": null,
   "id": "e15a106a-c9de-470c-98a2-120c4f931c9c",
   "metadata": {},
   "outputs": [],
   "source": []
  }
 ],
 "metadata": {
  "kernelspec": {
   "display_name": "Python 3 (ipykernel)",
   "language": "python",
   "name": "python3"
  },
  "language_info": {
   "codemirror_mode": {
    "name": "ipython",
    "version": 3
   },
   "file_extension": ".py",
   "mimetype": "text/x-python",
   "name": "python",
   "nbconvert_exporter": "python",
   "pygments_lexer": "ipython3",
   "version": "3.10.8"
  }
 },
 "nbformat": 4,
 "nbformat_minor": 5
}
